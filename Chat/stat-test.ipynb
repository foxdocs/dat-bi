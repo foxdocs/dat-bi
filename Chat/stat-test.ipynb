{
 "cells": [
  {
   "cell_type": "markdown",
   "id": "f382ed84-d375-4d2f-bffd-4cedc9d57774",
   "metadata": {},
   "source": [
    "# Package Test"
   ]
  },
  {
   "cell_type": "code",
   "execution_count": 1,
   "id": "4765bd91-850a-4d58-8ed3-a510363ff353",
   "metadata": {},
   "outputs": [],
   "source": [
    "import pandas as pd\n",
    "import numpy as np"
   ]
  },
  {
   "cell_type": "code",
   "execution_count": 2,
   "id": "91caf7e7-a26b-4865-887f-150008404578",
   "metadata": {},
   "outputs": [],
   "source": [
    "import MyPack\n",
    "from MyPack import module1, module2, module3, module4"
   ]
  },
  {
   "cell_type": "code",
   "execution_count": 3,
   "id": "3dcd2ae2-3a23-4c64-a0b3-82ea42bcabd2",
   "metadata": {},
   "outputs": [
    {
     "data": {
      "text/html": [
       "<div>\n",
       "<style scoped>\n",
       "    .dataframe tbody tr th:only-of-type {\n",
       "        vertical-align: middle;\n",
       "    }\n",
       "\n",
       "    .dataframe tbody tr th {\n",
       "        vertical-align: top;\n",
       "    }\n",
       "\n",
       "    .dataframe thead th {\n",
       "        text-align: right;\n",
       "    }\n",
       "</style>\n",
       "<table border=\"1\" class=\"dataframe\">\n",
       "  <thead>\n",
       "    <tr style=\"text-align: right;\">\n",
       "      <th></th>\n",
       "      <th>col_0</th>\n",
       "      <th>col_1</th>\n",
       "      <th>col_2</th>\n",
       "      <th>col_3</th>\n",
       "      <th>col_4</th>\n",
       "    </tr>\n",
       "  </thead>\n",
       "  <tbody>\n",
       "    <tr>\n",
       "      <th>85</th>\n",
       "      <td>47</td>\n",
       "      <td>32</td>\n",
       "      <td>98</td>\n",
       "      <td>77</td>\n",
       "      <td>29</td>\n",
       "    </tr>\n",
       "    <tr>\n",
       "      <th>2</th>\n",
       "      <td>58</td>\n",
       "      <td>38</td>\n",
       "      <td>48</td>\n",
       "      <td>62</td>\n",
       "      <td>31</td>\n",
       "    </tr>\n",
       "    <tr>\n",
       "      <th>0</th>\n",
       "      <td>58</td>\n",
       "      <td>47</td>\n",
       "      <td>85</td>\n",
       "      <td>59</td>\n",
       "      <td>80</td>\n",
       "    </tr>\n",
       "    <tr>\n",
       "      <th>80</th>\n",
       "      <td>55</td>\n",
       "      <td>38</td>\n",
       "      <td>58</td>\n",
       "      <td>56</td>\n",
       "      <td>99</td>\n",
       "    </tr>\n",
       "    <tr>\n",
       "      <th>81</th>\n",
       "      <td>65</td>\n",
       "      <td>75</td>\n",
       "      <td>93</td>\n",
       "      <td>18</td>\n",
       "      <td>49</td>\n",
       "    </tr>\n",
       "    <tr>\n",
       "      <th>78</th>\n",
       "      <td>85</td>\n",
       "      <td>55</td>\n",
       "      <td>12</td>\n",
       "      <td>17</td>\n",
       "      <td>64</td>\n",
       "    </tr>\n",
       "    <tr>\n",
       "      <th>61</th>\n",
       "      <td>62</td>\n",
       "      <td>75</td>\n",
       "      <td>68</td>\n",
       "      <td>50</td>\n",
       "      <td>54</td>\n",
       "    </tr>\n",
       "    <tr>\n",
       "      <th>67</th>\n",
       "      <td>14</td>\n",
       "      <td>15</td>\n",
       "      <td>77</td>\n",
       "      <td>8</td>\n",
       "      <td>54</td>\n",
       "    </tr>\n",
       "    <tr>\n",
       "      <th>42</th>\n",
       "      <td>71</td>\n",
       "      <td>77</td>\n",
       "      <td>6</td>\n",
       "      <td>29</td>\n",
       "      <td>47</td>\n",
       "    </tr>\n",
       "    <tr>\n",
       "      <th>58</th>\n",
       "      <td>62</td>\n",
       "      <td>5</td>\n",
       "      <td>91</td>\n",
       "      <td>49</td>\n",
       "      <td>50</td>\n",
       "    </tr>\n",
       "  </tbody>\n",
       "</table>\n",
       "</div>"
      ],
      "text/plain": [
       "    col_0  col_1  col_2  col_3  col_4\n",
       "85     47     32     98     77     29\n",
       "2      58     38     48     62     31\n",
       "0      58     47     85     59     80\n",
       "80     55     38     58     56     99\n",
       "81     65     75     93     18     49\n",
       "78     85     55     12     17     64\n",
       "61     62     75     68     50     54\n",
       "67     14     15     77      8     54\n",
       "42     71     77      6     29     47\n",
       "58     62      5     91     49     50"
      ]
     },
     "execution_count": 3,
     "metadata": {},
     "output_type": "execute_result"
    }
   ],
   "source": [
    "# call function data() from __init__.py to create a dataframe with random numbers\n",
    "df =  MyPack.data(0, 100, 100, 5)\n",
    "df.sample(10)"
   ]
  },
  {
   "cell_type": "markdown",
   "id": "787af885-917f-4d75-b970-371511347497",
   "metadata": {},
   "source": [
    "## Tests\n",
    "compare the results of Python function mean() and my function my_mean()"
   ]
  },
  {
   "cell_type": "code",
   "execution_count": 4,
   "id": "0139c8c5-895a-4e2e-9043-8e8b97df386e",
   "metadata": {},
   "outputs": [
    {
     "data": {
      "text/html": [
       "<div>\n",
       "<style scoped>\n",
       "    .dataframe tbody tr th:only-of-type {\n",
       "        vertical-align: middle;\n",
       "    }\n",
       "\n",
       "    .dataframe tbody tr th {\n",
       "        vertical-align: top;\n",
       "    }\n",
       "\n",
       "    .dataframe thead th {\n",
       "        text-align: right;\n",
       "    }\n",
       "</style>\n",
       "<table border=\"1\" class=\"dataframe\">\n",
       "  <thead>\n",
       "    <tr style=\"text-align: right;\">\n",
       "      <th></th>\n",
       "      <th>col_0</th>\n",
       "      <th>col_1</th>\n",
       "      <th>col_2</th>\n",
       "      <th>col_3</th>\n",
       "      <th>col_4</th>\n",
       "    </tr>\n",
       "  </thead>\n",
       "  <tbody>\n",
       "    <tr>\n",
       "      <th>count</th>\n",
       "      <td>100.000000</td>\n",
       "      <td>100.000000</td>\n",
       "      <td>100.00000</td>\n",
       "      <td>100.000000</td>\n",
       "      <td>100.000000</td>\n",
       "    </tr>\n",
       "    <tr>\n",
       "      <th>mean</th>\n",
       "      <td>50.410000</td>\n",
       "      <td>47.550000</td>\n",
       "      <td>53.41000</td>\n",
       "      <td>49.280000</td>\n",
       "      <td>49.280000</td>\n",
       "    </tr>\n",
       "    <tr>\n",
       "      <th>std</th>\n",
       "      <td>27.430388</td>\n",
       "      <td>26.430918</td>\n",
       "      <td>26.70342</td>\n",
       "      <td>27.368078</td>\n",
       "      <td>30.340186</td>\n",
       "    </tr>\n",
       "    <tr>\n",
       "      <th>min</th>\n",
       "      <td>2.000000</td>\n",
       "      <td>0.000000</td>\n",
       "      <td>1.00000</td>\n",
       "      <td>0.000000</td>\n",
       "      <td>0.000000</td>\n",
       "    </tr>\n",
       "    <tr>\n",
       "      <th>25%</th>\n",
       "      <td>30.750000</td>\n",
       "      <td>24.750000</td>\n",
       "      <td>33.75000</td>\n",
       "      <td>27.000000</td>\n",
       "      <td>19.750000</td>\n",
       "    </tr>\n",
       "    <tr>\n",
       "      <th>50%</th>\n",
       "      <td>53.000000</td>\n",
       "      <td>45.500000</td>\n",
       "      <td>54.00000</td>\n",
       "      <td>46.500000</td>\n",
       "      <td>53.500000</td>\n",
       "    </tr>\n",
       "    <tr>\n",
       "      <th>75%</th>\n",
       "      <td>71.250000</td>\n",
       "      <td>69.250000</td>\n",
       "      <td>72.50000</td>\n",
       "      <td>72.250000</td>\n",
       "      <td>75.250000</td>\n",
       "    </tr>\n",
       "    <tr>\n",
       "      <th>max</th>\n",
       "      <td>98.000000</td>\n",
       "      <td>99.000000</td>\n",
       "      <td>98.00000</td>\n",
       "      <td>99.000000</td>\n",
       "      <td>99.000000</td>\n",
       "    </tr>\n",
       "  </tbody>\n",
       "</table>\n",
       "</div>"
      ],
      "text/plain": [
       "            col_0       col_1      col_2       col_3       col_4\n",
       "count  100.000000  100.000000  100.00000  100.000000  100.000000\n",
       "mean    50.410000   47.550000   53.41000   49.280000   49.280000\n",
       "std     27.430388   26.430918   26.70342   27.368078   30.340186\n",
       "min      2.000000    0.000000    1.00000    0.000000    0.000000\n",
       "25%     30.750000   24.750000   33.75000   27.000000   19.750000\n",
       "50%     53.000000   45.500000   54.00000   46.500000   53.500000\n",
       "75%     71.250000   69.250000   72.50000   72.250000   75.250000\n",
       "max     98.000000   99.000000   98.00000   99.000000   99.000000"
      ]
     },
     "execution_count": 4,
     "metadata": {},
     "output_type": "execute_result"
    }
   ],
   "source": [
    "df.describe()"
   ]
  },
  {
   "cell_type": "code",
   "execution_count": 8,
   "id": "dfec6ba0-be02-405b-9a89-1ee9bed78756",
   "metadata": {},
   "outputs": [
    {
     "data": {
      "text/plain": [
       "47.55"
      ]
     },
     "execution_count": 8,
     "metadata": {},
     "output_type": "execute_result"
    }
   ],
   "source": [
    "import statistics\n",
    "statistics.mean(df['col_1'])"
   ]
  },
  {
   "cell_type": "code",
   "execution_count": 9,
   "id": "a1f010f4-282a-41bf-bbbe-e6a1a5eaf5c1",
   "metadata": {},
   "outputs": [
    {
     "data": {
      "text/plain": [
       "47.55"
      ]
     },
     "execution_count": 9,
     "metadata": {},
     "output_type": "execute_result"
    }
   ],
   "source": [
    "df['col_1'].mean()"
   ]
  },
  {
   "cell_type": "code",
   "execution_count": 10,
   "id": "c22a86af-c25d-4f17-9711-2b8b99600550",
   "metadata": {},
   "outputs": [
    {
     "data": {
      "text/plain": [
       "47.55"
      ]
     },
     "execution_count": 10,
     "metadata": {},
     "output_type": "execute_result"
    }
   ],
   "source": [
    "module1.my_mean(df['col_1'])"
   ]
  },
  {
   "cell_type": "markdown",
   "id": "48fc0806-2ae7-47a3-9b57-ad98959e8a4d",
   "metadata": {},
   "source": [
    "### Other Functions from Module1"
   ]
  },
  {
   "cell_type": "code",
   "execution_count": 11,
   "id": "22324066-3fcc-45f1-9dfd-e74b6badd1ce",
   "metadata": {},
   "outputs": [
    {
     "name": "stdout",
     "output_type": "stream",
     "text": [
      "Counter({50: 3, 97: 3, 93: 3, 70: 3, 64: 3, 12: 3, 85: 2, 48: 2, 41: 2, 32: 2, 59: 2, 55: 2, 25: 2, 89: 2, 34: 2, 82: 2, 22: 2, 35: 2, 62: 2, 94: 2, 40: 2, 72: 2, 77: 2, 6: 2, 68: 2, 43: 1, 7: 1, 23: 1, 76: 1, 61: 1, 51: 1, 57: 1, 37: 1, 96: 1, 5: 1, 29: 1, 18: 1, 28: 1, 63: 1, 95: 1, 33: 1, 30: 1, 11: 1, 56: 1, 42: 1, 69: 1, 47: 1, 46: 1, 91: 1, 45: 1, 65: 1, 60: 1, 44: 1, 38: 1, 36: 1, 53: 1, 80: 1, 58: 1, 1: 1, 20: 1, 83: 1, 98: 1, 26: 1, 66: 1, 74: 1, 88: 1, 19: 1, 49: 1, 14: 1})\n"
     ]
    },
    {
     "data": {
      "text/plain": [
       "[50, 97, 93, 70, 64, 12]"
      ]
     },
     "execution_count": 11,
     "metadata": {},
     "output_type": "execute_result"
    }
   ],
   "source": [
    "module1.my_mode(df['col_2'])"
   ]
  },
  {
   "cell_type": "markdown",
   "id": "3821f260-2faa-4edb-b697-9f03c1aa26df",
   "metadata": {},
   "source": [
    "### Functions from Module2"
   ]
  },
  {
   "cell_type": "code",
   "execution_count": 12,
   "id": "8308a2f4-ecfb-485d-a750-c8f9451f4e46",
   "metadata": {},
   "outputs": [
    {
     "data": {
      "text/plain": [
       "99"
      ]
     },
     "execution_count": 12,
     "metadata": {},
     "output_type": "execute_result"
    }
   ],
   "source": [
    "module2.my_range(df['col_1'])"
   ]
  },
  {
   "cell_type": "code",
   "execution_count": 13,
   "id": "b3c769dc-5734-40d9-94df-7828cfa59b34",
   "metadata": {},
   "outputs": [
    {
     "data": {
      "text/plain": [
       "25"
      ]
     },
     "execution_count": 13,
     "metadata": {},
     "output_type": "execute_result"
    }
   ],
   "source": [
    "module2.my_quantiles(df['col_1'], 25)"
   ]
  },
  {
   "cell_type": "code",
   "execution_count": 14,
   "id": "89ffee44-1877-4861-8545-64d334142523",
   "metadata": {},
   "outputs": [
    {
     "data": {
      "text/plain": [
       "698.593434343434"
      ]
     },
     "execution_count": 14,
     "metadata": {},
     "output_type": "execute_result"
    }
   ],
   "source": [
    "module2.my_variance(df['col_1'])"
   ]
  },
  {
   "cell_type": "code",
   "execution_count": 15,
   "id": "d14966f8-26ed-4320-ac80-36bc1979bdd9",
   "metadata": {},
   "outputs": [
    {
     "data": {
      "text/plain": [
       "26.43091815172969"
      ]
     },
     "execution_count": 15,
     "metadata": {},
     "output_type": "execute_result"
    }
   ],
   "source": [
    "module2.my_std(df['col_1'])"
   ]
  },
  {
   "cell_type": "code",
   "execution_count": 16,
   "id": "daf6c36f-c27c-4f9c-ac79-06bec654e530",
   "metadata": {},
   "outputs": [
    {
     "data": {
      "text/plain": [
       "Series([], Name: col_2, dtype: int64)"
      ]
     },
     "execution_count": 16,
     "metadata": {},
     "output_type": "execute_result"
    }
   ],
   "source": [
    "module2.my_outliers(df['col_2'])"
   ]
  },
  {
   "cell_type": "markdown",
   "id": "c674dcab-d2c8-4403-878d-005ef9936071",
   "metadata": {},
   "source": [
    "### Functions from Module3"
   ]
  },
  {
   "cell_type": "code",
   "execution_count": 17,
   "id": "609075f6-1793-48be-a2e2-f842b63df736",
   "metadata": {},
   "outputs": [
    {
     "data": {
      "text/html": [
       "<div>\n",
       "<style scoped>\n",
       "    .dataframe tbody tr th:only-of-type {\n",
       "        vertical-align: middle;\n",
       "    }\n",
       "\n",
       "    .dataframe tbody tr th {\n",
       "        vertical-align: top;\n",
       "    }\n",
       "\n",
       "    .dataframe thead th {\n",
       "        text-align: right;\n",
       "    }\n",
       "</style>\n",
       "<table border=\"1\" class=\"dataframe\">\n",
       "  <thead>\n",
       "    <tr style=\"text-align: right;\">\n",
       "      <th></th>\n",
       "      <th>col_0</th>\n",
       "      <th>col_1</th>\n",
       "      <th>col_2</th>\n",
       "      <th>col_3</th>\n",
       "      <th>col_4</th>\n",
       "    </tr>\n",
       "  </thead>\n",
       "  <tbody>\n",
       "    <tr>\n",
       "      <th>col_0</th>\n",
       "      <td>1.000000</td>\n",
       "      <td>-0.062995</td>\n",
       "      <td>0.085873</td>\n",
       "      <td>0.011027</td>\n",
       "      <td>0.076591</td>\n",
       "    </tr>\n",
       "    <tr>\n",
       "      <th>col_1</th>\n",
       "      <td>-0.062995</td>\n",
       "      <td>1.000000</td>\n",
       "      <td>0.050268</td>\n",
       "      <td>-0.037261</td>\n",
       "      <td>-0.048512</td>\n",
       "    </tr>\n",
       "    <tr>\n",
       "      <th>col_2</th>\n",
       "      <td>0.085873</td>\n",
       "      <td>0.050268</td>\n",
       "      <td>1.000000</td>\n",
       "      <td>0.026088</td>\n",
       "      <td>-0.003958</td>\n",
       "    </tr>\n",
       "    <tr>\n",
       "      <th>col_3</th>\n",
       "      <td>0.011027</td>\n",
       "      <td>-0.037261</td>\n",
       "      <td>0.026088</td>\n",
       "      <td>1.000000</td>\n",
       "      <td>-0.134503</td>\n",
       "    </tr>\n",
       "    <tr>\n",
       "      <th>col_4</th>\n",
       "      <td>0.076591</td>\n",
       "      <td>-0.048512</td>\n",
       "      <td>-0.003958</td>\n",
       "      <td>-0.134503</td>\n",
       "      <td>1.000000</td>\n",
       "    </tr>\n",
       "  </tbody>\n",
       "</table>\n",
       "</div>"
      ],
      "text/plain": [
       "          col_0     col_1     col_2     col_3     col_4\n",
       "col_0  1.000000 -0.062995  0.085873  0.011027  0.076591\n",
       "col_1 -0.062995  1.000000  0.050268 -0.037261 -0.048512\n",
       "col_2  0.085873  0.050268  1.000000  0.026088 -0.003958\n",
       "col_3  0.011027 -0.037261  0.026088  1.000000 -0.134503\n",
       "col_4  0.076591 -0.048512 -0.003958 -0.134503  1.000000"
      ]
     },
     "execution_count": 17,
     "metadata": {},
     "output_type": "execute_result"
    }
   ],
   "source": [
    "# calculate correlations between attributes in correlation matrix\n",
    "corrm = module3.my_corr(df)\n",
    "corrm"
   ]
  },
  {
   "cell_type": "code",
   "execution_count": 18,
   "id": "e3d5cfc1-8c6b-4e63-b1b5-e86c3bce6db9",
   "metadata": {},
   "outputs": [
    {
     "data": {
      "image/png": "[encoded data removed]",
      "text/plain": [
       "<Figure size 640x480 with 2 Axes>"
      ]
     },
     "metadata": {},
     "output_type": "display_data"
    }
   ],
   "source": [
    "# build heat map \n",
    "module3.my_corr_plot(corrm)"
   ]
  },
  {
   "cell_type": "markdown",
   "id": "e494e01b-4ea1-4bf2-98e9-d6e913a4472d",
   "metadata": {},
   "source": [
    "### Functions from Module4"
   ]
  },
  {
   "cell_type": "code",
   "execution_count": 19,
   "id": "7d33515e-7fd8-4fb8-9885-d143cd67630d",
   "metadata": {},
   "outputs": [
    {
     "name": "stderr",
     "output_type": "stream",
     "text": [
      "/opt/anaconda3/lib/python3.12/site-packages/pandas/plotting/_matplotlib/core.py:1345: UserWarning: No data for colormapping provided via 'c'. Parameters 'cmap' will be ignored\n",
      "  scatter = ax.scatter(\n"
     ]
    },
    {
     "data": {
      "image/png": "[encoded data removed]",
      "text/plain": [
       "<Figure size 640x480 with 1 Axes>"
      ]
     },
     "metadata": {},
     "output_type": "display_data"
    }
   ],
   "source": [
    "module4.plot_scatter(df)"
   ]
  },
  {
   "cell_type": "code",
   "execution_count": 20,
   "id": "b132d787-13c9-41ac-8ae0-022051b68247",
   "metadata": {},
   "outputs": [
    {
     "data": {
      "text/plain": [
       "<Axes: xlabel='x', ylabel='y'>"
      ]
     },
     "execution_count": 20,
     "metadata": {},
     "output_type": "execute_result"
    },
    {
     "data": {
      "image/png": "[encoded data removed]",
      "text/plain": [
       "<Figure size 400x400 with 1 Axes>"
      ]
     },
     "metadata": {},
     "output_type": "display_data"
    }
   ],
   "source": [
    "module4.plot_box(df)"
   ]
  },
  {
   "cell_type": "code",
   "execution_count": 22,
   "id": "32f9522d-5b0b-444c-8ac4-83ab753a9942",
   "metadata": {},
   "outputs": [
    {
     "data": {
      "text/plain": [
       "<Axes: xlabel='col_0', ylabel='col_1'>"
      ]
     },
     "execution_count": 22,
     "metadata": {},
     "output_type": "execute_result"
    },
    {
     "data": {
      "image/png": "[encoded data removed]",
      "text/plain": [
       "<Figure size 640x480 with 1 Axes>"
      ]
     },
     "metadata": {},
     "output_type": "display_data"
    }
   ],
   "source": [
    "module4.plot_bar(df)"
   ]
  },
  {
   "cell_type": "code",
   "execution_count": 27,
   "id": "ef554fb3-8d46-495e-925b-f0c355c91d3f",
   "metadata": {},
   "outputs": [
    {
     "data": {
      "image/png": "[encoded data removed]",
      "text/plain": [
       "<Figure size 640x480 with 1 Axes>"
      ]
     },
     "metadata": {},
     "output_type": "display_data"
    }
   ],
   "source": [
    "module4.plot_line(df)"
   ]
  },
  {
   "cell_type": "code",
   "execution_count": null,
   "id": "0271e5c9-5b25-4729-845c-3eb57134b3e8",
   "metadata": {},
   "outputs": [],
   "source": []
  }
 ],
 "metadata": {
  "kernelspec": {
   "display_name": "Python 3 (ipykernel)",
   "language": "python",
   "name": "python3"
  },
  "language_info": {
   "codemirror_mode": {
    "name": "ipython",
    "version": 3
   },
   "file_extension": ".py",
   "mimetype": "text/x-python",
   "name": "python",
   "nbconvert_exporter": "python",
   "pygments_lexer": "ipython3",
   "version": "3.12.8"
  }
 },
 "nbformat": 4,
 "nbformat_minor": 5
}
