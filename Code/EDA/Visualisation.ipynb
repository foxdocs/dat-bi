{
 "cells": [
  {
   "cell_type": "markdown",
   "id": "0914bf7f",
   "metadata": {},
   "source": [
    "# Data Analysis and Visualisation Examples\n",
    "This notebook illustrates various visualisation techniques and libraries, providing their implementation."
   ]
  },
  {
   "cell_type": "markdown",
   "id": "c7454250",
   "metadata": {},
   "source": [
    "## Import the Libraries"
   ]
  },
  {
   "cell_type": "code",
   "execution_count": null,
   "id": "f8631ce7",
   "metadata": {},
   "outputs": [],
   "source": [
    "# for 2D, 3D, and animated visualisation\n",
    "! pip install plotly"
   ]
  },
  {
   "cell_type": "code",
   "execution_count": null,
   "id": "e8cdb129",
   "metadata": {},
   "outputs": [],
   "source": [
    "# for geo-mapping\n",
    "! pip install folium"
   ]
  },
  {
   "cell_type": "code",
   "execution_count": null,
   "id": "bcb9c278-985f-46cd-a5f0-d9f2d0a56009",
   "metadata": {},
   "outputs": [],
   "source": [
    "# for geo-operations\n",
    "!pip install geopy"
   ]
  },
  {
   "cell_type": "code",
   "execution_count": null,
   "id": "68c9441b",
   "metadata": {},
   "outputs": [],
   "source": [
    "# for working with data structures\n",
    "import pandas as pd\n",
    "import numpy as np"
   ]
  },
  {
   "cell_type": "code",
   "execution_count": null,
   "id": "4198d90d",
   "metadata": {},
   "outputs": [],
   "source": [
    "# graph libraries for work with visualisation\n",
    "import matplotlib.pyplot as plt\n",
    "import seaborn as sbn\n",
    "import folium\n",
    "import plotly.express as px"
   ]
  },
  {
   "cell_type": "code",
   "execution_count": null,
   "id": "30ddd1ef-d1f9-493f-b331-e31fbebc6a29",
   "metadata": {},
   "outputs": [],
   "source": [
    "import geopy\n",
    "from geopy.geocoders import Nominatim"
   ]
  },
  {
   "cell_type": "markdown",
   "id": "8a564900",
   "metadata": {},
   "source": [
    "## Data Ingestion and Wrangling"
   ]
  },
  {
   "cell_type": "markdown",
   "id": "3c5efc96",
   "metadata": {},
   "source": [
    "### Read Data"
   ]
  },
  {
   "cell_type": "code",
   "execution_count": null,
   "id": "64b640c3",
   "metadata": {},
   "outputs": [],
   "source": [
    "# read the data about meteorites landing on Earth\n",
    "df = pd.read_csv(\"../../Data/Meteorite_Landings_20240212.csv\", sep = ',')"
   ]
  },
  {
   "cell_type": "code",
   "execution_count": null,
   "id": "1d2f843b",
   "metadata": {},
   "outputs": [],
   "source": [
    "df.shape"
   ]
  },
  {
   "cell_type": "code",
   "execution_count": null,
   "id": "372c7ace",
   "metadata": {
    "_uuid": "2c69cc62eb545d1da46102e67852a72c97a794d1"
   },
   "outputs": [],
   "source": [
    "# get idea of the look\n",
    "df.sample(5)"
   ]
  },
  {
   "cell_type": "code",
   "execution_count": null,
   "id": "10664b5c-0825-4c7c-b3a9-6daca7837ec3",
   "metadata": {},
   "outputs": [],
   "source": [
    "df.info()"
   ]
  },
  {
   "cell_type": "code",
   "execution_count": null,
   "id": "c5d1dafa-d437-43aa-86c1-a48385d073fc",
   "metadata": {},
   "outputs": [],
   "source": [
    "df.columns"
   ]
  },
  {
   "cell_type": "code",
   "execution_count": null,
   "id": "8a38e81a-16f1-42ed-8016-fd07402951e2",
   "metadata": {},
   "outputs": [],
   "source": [
    "# renaming columns for convenience\n",
    "df.rename({'mass (g)':'mass', 'reclat':'lat', 'reclong':'long'}, axis=1, inplace=True)"
   ]
  },
  {
   "cell_type": "markdown",
   "id": "addf6229-6f0a-4b99-8f52-f89870cdda4d",
   "metadata": {},
   "source": [
    "### Clean the Data"
   ]
  },
  {
   "cell_type": "code",
   "execution_count": null,
   "id": "594aedba-8130-4b0c-adf8-39ee14c16426",
   "metadata": {},
   "outputs": [],
   "source": [
    "# to check null values in data\n",
    "df.isnull().sum()"
   ]
  },
  {
   "cell_type": "markdown",
   "id": "67c6e34a-c024-4595-ac50-5dee93fbe1f9",
   "metadata": {},
   "source": [
    "Lots of missing values in the records, in mass and year, and especially missing coordinates of the location on Earth."
   ]
  },
  {
   "cell_type": "markdown",
   "id": "a3643957-5ff9-429a-9401-1b10163f3a43",
   "metadata": {},
   "source": [
    "__Replacing missing mass values with the avarage (mean)__"
   ]
  },
  {
   "cell_type": "code",
   "execution_count": null,
   "id": "3ad923f9-8d42-430d-b25b-81870b793dd0",
   "metadata": {},
   "outputs": [],
   "source": [
    "# mass\n",
    "mass_mean = df['mass'].mean()\n",
    "df['mass'] = df['mass'].fillna(int(mass_mean))"
   ]
  },
  {
   "cell_type": "markdown",
   "id": "0777733c-6518-4761-b3f9-831848e3ac75",
   "metadata": {},
   "source": [
    "__Deleting rows with unknown year__"
   ]
  },
  {
   "cell_type": "code",
   "execution_count": null,
   "id": "7b460ad7-2503-4cf8-984a-cf9cfc443ef6",
   "metadata": {},
   "outputs": [],
   "source": [
    "# year\n",
    "df.dropna(subset=['year'], inplace=True)"
   ]
  },
  {
   "cell_type": "code",
   "execution_count": null,
   "id": "d6aef265-cd8e-4357-97e6-6c63a3212302",
   "metadata": {},
   "outputs": [],
   "source": [
    "df.shape"
   ]
  },
  {
   "cell_type": "code",
   "execution_count": null,
   "id": "72d2b2c4-ac75-4b19-8c35-f2fde5893dcf",
   "metadata": {},
   "outputs": [],
   "source": [
    "df.isna().sum()"
   ]
  },
  {
   "cell_type": "markdown",
   "id": "69e0156f-03cf-447f-bce1-deef117911b3",
   "metadata": {},
   "source": [
    "Keep the rest of rows for non-geo related analisys."
   ]
  },
  {
   "cell_type": "code",
   "execution_count": null,
   "id": "3ae8d62e-5e66-4c32-9f70-0c477fe2d29e",
   "metadata": {},
   "outputs": [],
   "source": [
    "df.head()"
   ]
  },
  {
   "cell_type": "markdown",
   "id": "646644e4-3b14-4787-843c-5919a5b41395",
   "metadata": {},
   "source": [
    "### Fix the Wrong Types"
   ]
  },
  {
   "cell_type": "code",
   "execution_count": null,
   "id": "4a975331-59af-4f86-990e-e06ccee2f95c",
   "metadata": {},
   "outputs": [],
   "source": [
    "# change the year type to int\n",
    "df['year'] = df['year'].astype(int)"
   ]
  },
  {
   "cell_type": "code",
   "execution_count": null,
   "id": "2e343672-8062-4e51-ae85-1865aaa91fd4",
   "metadata": {},
   "outputs": [],
   "source": [
    "# change the format of the float numbers to avoid presenting then in scientific notation, e.g. e+04\n",
    "pd.set_option('display.float_format', lambda x: '%.3f' % x)"
   ]
  },
  {
   "cell_type": "code",
   "execution_count": null,
   "id": "372c46aa-b742-4c6f-8c52-ccecf6198724",
   "metadata": {},
   "outputs": [],
   "source": [
    "df.info()"
   ]
  },
  {
   "cell_type": "markdown",
   "id": "51331261-e415-4ee5-9aa9-ecb7fb65145e",
   "metadata": {},
   "source": [
    "### Check for Wrong Categorical Values"
   ]
  },
  {
   "cell_type": "code",
   "execution_count": null,
   "id": "410d1b5c-0c3e-4d9b-92c6-4493718f9852",
   "metadata": {},
   "outputs": [],
   "source": [
    "types = df[\"nametype\"].unique()\n",
    "types, len(types)"
   ]
  },
  {
   "cell_type": "code",
   "execution_count": null,
   "id": "68dfa419-1332-406b-a6d7-0d225426a6ba",
   "metadata": {},
   "outputs": [],
   "source": [
    "classes = df[\"recclass\"].unique()\n",
    "classes, len(classes)"
   ]
  },
  {
   "cell_type": "markdown",
   "id": "359062ee-c986-4f9b-ab98-6b12f39a64fb",
   "metadata": {},
   "source": [
    "### Explore the Attributes"
   ]
  },
  {
   "cell_type": "markdown",
   "id": "89f24be2-9e77-438d-ab51-b89e87a84c62",
   "metadata": {},
   "source": [
    "#### Categorical Data"
   ]
  },
  {
   "cell_type": "code",
   "execution_count": null,
   "id": "c2c979a0-ee44-40d7-ba3a-a3f70ccdd13a",
   "metadata": {},
   "outputs": [],
   "source": [
    "df['nametype'].describe()"
   ]
  },
  {
   "cell_type": "code",
   "execution_count": null,
   "id": "eb5ddd1c-27b5-4fab-aaf6-b2f7228c3224",
   "metadata": {},
   "outputs": [],
   "source": [
    "type(df['nametype'])"
   ]
  },
  {
   "cell_type": "markdown",
   "id": "759fd28c-8481-4142-bdc5-9b2601486d35",
   "metadata": {},
   "source": [
    "A pandas  and only the number of rows is returned."
   ]
  },
  {
   "cell_type": "code",
   "execution_count": null,
   "id": "b35abc5d-f52d-4b6e-b8ee-a90a27eb14bf",
   "metadata": {},
   "outputs": [],
   "source": [
    "# Series is one-dimensional\n",
    "df['nametype'].shape"
   ]
  },
  {
   "cell_type": "code",
   "execution_count": null,
   "id": "f66b2297-f95f-4c36-afe1-1d09444f8a39",
   "metadata": {},
   "outputs": [],
   "source": [
    "# explore nametype\n",
    "nametype_group = df.groupby(by = 'nametype').size()\n",
    "nametype_group"
   ]
  },
  {
   "cell_type": "code",
   "execution_count": null,
   "id": "88d33d25-91d3-411b-bfef-4a3112b16305",
   "metadata": {},
   "outputs": [],
   "source": [
    "type(nametype_group)"
   ]
  },
  {
   "cell_type": "code",
   "execution_count": null,
   "id": "ed03adbd-e508-497e-857b-14b57817e33d",
   "metadata": {},
   "outputs": [],
   "source": [
    "# In Series the values are labeled by index\n",
    "nametype_group.index"
   ]
  },
  {
   "cell_type": "code",
   "execution_count": null,
   "id": "9495db77-2a07-4b7d-922e-4ff108b0cb46",
   "metadata": {},
   "outputs": [],
   "source": [
    "nametype_group.values"
   ]
  },
  {
   "cell_type": "code",
   "execution_count": null,
   "id": "b288d859-cced-4edd-b35b-ea20b59b2387",
   "metadata": {},
   "outputs": [],
   "source": [
    "df[(df['nametype'] == 'Relict')]"
   ]
  },
  {
   "cell_type": "code",
   "execution_count": null,
   "id": "935d744e-aad1-42df-8d92-37624b0334a1",
   "metadata": {},
   "outputs": [],
   "source": [
    "# Bar Plot\n",
    "plt.subplots(figsize=(5, 5))\n",
    "x = nametype_group.index\n",
    "y = nametype_group.values\n",
    "plt.bar(x, y, color='skyblue')\n",
    "plt.xlabel('nametypes')\n",
    "plt.ylabel('number of occurance')\n",
    "plt.title('Categories')\n",
    "plt.show()"
   ]
  },
  {
   "cell_type": "code",
   "execution_count": null,
   "id": "334dfc7a",
   "metadata": {},
   "outputs": [],
   "source": [
    "# recclass\n",
    "recclass_group = df.groupby(by = 'recclass').size()\n",
    "recclass_group"
   ]
  },
  {
   "cell_type": "code",
   "execution_count": null,
   "id": "6c1a0213-6959-4fa9-af7e-57cf718cc621",
   "metadata": {},
   "outputs": [],
   "source": [
    "recclass_group.sort_values(ascending=False, inplace = True)"
   ]
  },
  {
   "cell_type": "code",
   "execution_count": null,
   "id": "233ed5f6-9199-4ae5-a32d-e40ac3760a4d",
   "metadata": {
    "scrolled": true
   },
   "outputs": [],
   "source": [
    "recclass_group.index"
   ]
  },
  {
   "cell_type": "code",
   "execution_count": null,
   "id": "35f3c624-9abb-427f-b270-1f886322270e",
   "metadata": {},
   "outputs": [],
   "source": [
    "# Bar Plot\n",
    "plt.subplots(figsize=(15, 5))\n",
    "x = recclass_group.index\n",
    "y = recclass_group.values\n",
    "plt.bar(x, y, color='skyblue')\n",
    "plt.xlabel('recclasses')\n",
    "plt.ylabel('number of occurance')\n",
    "plt.title('Types')\n",
    "plt.show()"
   ]
  },
  {
   "cell_type": "markdown",
   "id": "172a822d-f5ce-40e7-9a21-cc93df3960e8",
   "metadata": {},
   "source": [
    "#### Scatter Plots"
   ]
  },
  {
   "cell_type": "code",
   "execution_count": null,
   "id": "7a7438fd-49d9-4e79-9a35-c9131bf81108",
   "metadata": {},
   "outputs": [],
   "source": [
    "# with Seaborn\n",
    "sbn.pairplot(df, x_vars=['year', 'nametype'], y_vars='mass', height=3)"
   ]
  },
  {
   "cell_type": "code",
   "execution_count": null,
   "id": "d248f42e-2aba-4292-aa97-c19ec355560a",
   "metadata": {},
   "outputs": [],
   "source": [
    "# with Plotly\n",
    "fig = px.scatter(df, x=\"year\", y=\"recclass\", size=\"mass\", color=\"recclass\",\n",
    "           hover_name=\"recclass\", log_x=True, size_max=60)\n",
    "fig.show()"
   ]
  },
  {
   "cell_type": "code",
   "execution_count": null,
   "id": "28cdb10b-b931-423d-a9e1-576dfbb968a2",
   "metadata": {},
   "outputs": [],
   "source": [
    "df.sort_values(by=['year'], ascending=True, inplace=True)"
   ]
  },
  {
   "cell_type": "code",
   "execution_count": null,
   "id": "427fb978-975c-4089-9137-7ff2039bf104",
   "metadata": {},
   "outputs": [],
   "source": [
    "df.head()"
   ]
  },
  {
   "cell_type": "code",
   "execution_count": null,
   "id": "eaf2e538-4d7f-4c2e-9a57-ef81251532a7",
   "metadata": {},
   "outputs": [],
   "source": [
    "df.describe()"
   ]
  },
  {
   "cell_type": "code",
   "execution_count": null,
   "id": "21588556-05a1-4c43-bc20-6e3680edee0f",
   "metadata": {},
   "outputs": [],
   "source": [
    "df.head()"
   ]
  },
  {
   "cell_type": "code",
   "execution_count": null,
   "id": "8cfc622b-d861-46a1-9002-a3cfe5099a60",
   "metadata": {},
   "outputs": [],
   "source": [
    "df.info()"
   ]
  },
  {
   "cell_type": "code",
   "execution_count": null,
   "id": "c7e48fb0-898d-4097-981d-0d194b33ebf6",
   "metadata": {},
   "outputs": [],
   "source": []
  },
  {
   "cell_type": "code",
   "execution_count": null,
   "id": "5d4d04f5-50d5-4841-9fce-12b42154081a",
   "metadata": {},
   "outputs": [],
   "source": [
    "x = df['year']\n",
    "y = df[\"recclass\"]\n",
    "fig = px.scatter(df, x, y, animation_frame='year', animation_group='recclass',\n",
    "           size='mass', color=\"recclass\",  range_x=[1600, 2000])\n",
    "fig.show()"
   ]
  },
  {
   "cell_type": "code",
   "execution_count": null,
   "id": "23e805a8-c3cc-4cbb-a063-c2a1e77d36e9",
   "metadata": {},
   "outputs": [],
   "source": [
    "fig = px.scatter(df, x=\"year\", y=\"nametype\", size=\"mass\", color=\"nametype\",\n",
    "           hover_name=\"nametype\", log_x=True, size_max=30)\n",
    "fig.show()"
   ]
  },
  {
   "cell_type": "code",
   "execution_count": null,
   "id": "9e4c9640-136c-46ab-a3ab-1f9f040934bd",
   "metadata": {},
   "outputs": [],
   "source": [
    "# plot the observations to discover outliers\n",
    "df.plot.scatter(x='year', y='mass', c='year', colormap='viridis')"
   ]
  },
  {
   "cell_type": "code",
   "execution_count": null,
   "id": "8c4c77f4",
   "metadata": {},
   "outputs": [],
   "source": [
    "# pie chart\n",
    "fig = px.pie(df, 'year', values = \"mass\")\n",
    "fig.show()"
   ]
  },
  {
   "cell_type": "code",
   "execution_count": null,
   "id": "9c12f874",
   "metadata": {},
   "outputs": [],
   "source": [
    "fig = px.line_3d(x=df['recclass'], y=df['year'], z=df['mass']) \n",
    "fig.show()"
   ]
  },
  {
   "cell_type": "code",
   "execution_count": null,
   "id": "5b1425c3",
   "metadata": {},
   "outputs": [],
   "source": [
    "# 3D scatter plot\n",
    "fig = px.scatter_3d(df, x=\"year\", y=\"mass\", z='recclass', color=\"year\", size='mass', size_max=40, opacity=0.8)\n",
    "fig.show()"
   ]
  },
  {
   "cell_type": "code",
   "execution_count": null,
   "id": "cee8f663",
   "metadata": {},
   "outputs": [],
   "source": [
    "# bar chart\n",
    "fig = px.bar(df, x=\"recclass\", y=\"mass\", color = \"recclass\") \n",
    "fig.show()"
   ]
  },
  {
   "cell_type": "markdown",
   "id": "df6d179b-12a6-4662-9710-27fc0ad9206f",
   "metadata": {},
   "source": [
    "## Feature Engineering"
   ]
  },
  {
   "cell_type": "markdown",
   "id": "1792603c-d0fd-4bd1-8eea-4c3cb2249abc",
   "metadata": {},
   "source": [
    "### Encode \"nametype\" with One-Hot Encoding"
   ]
  },
  {
   "cell_type": "code",
   "execution_count": null,
   "id": "e5d7215d-238f-42c5-a1cc-e1e83b54e7f1",
   "metadata": {},
   "outputs": [],
   "source": [
    "# assign a type category for use with qualitative data\n",
    "df[\"nametype\"] = df[\"nametype\"].astype('category')"
   ]
  },
  {
   "cell_type": "code",
   "execution_count": null,
   "id": "7719410b-ab66-4c36-8c9a-7c02bd724192",
   "metadata": {},
   "outputs": [],
   "source": [
    "# apply one-hot encoding to the name types\n",
    "onehot = pd.get_dummies(df['nametype'], dtype=float)\n",
    "onehot.sample(5)"
   ]
  },
  {
   "cell_type": "code",
   "execution_count": null,
   "id": "d906535f-feca-4564-97ef-933865e20586",
   "metadata": {},
   "outputs": [],
   "source": [
    "# replace the original nametype with one-hot encoded\n",
    "df = pd.get_dummies(df, columns = ['nametype'], dtype=float)\n",
    "df.sample(5)"
   ]
  },
  {
   "cell_type": "code",
   "execution_count": null,
   "id": "ed8cc6ed-e683-46f4-9c75-ad4a1a8345ef",
   "metadata": {},
   "outputs": [],
   "source": [
    "df.columns"
   ]
  },
  {
   "cell_type": "code",
   "execution_count": null,
   "id": "6d5938d2-dbb2-4676-8d84-db5dffb83cda",
   "metadata": {},
   "outputs": [],
   "source": [
    "# valid only\n",
    "dfv = df[df['nametype_Valid'] == True]\n",
    "dfv.sample(3)"
   ]
  },
  {
   "cell_type": "code",
   "execution_count": null,
   "id": "abb91110-ac81-4ba0-9352-885180fcba74",
   "metadata": {},
   "outputs": [],
   "source": [
    "# relic only\n",
    "dfr = df[df['nametype_Relict'] == True]\n",
    "dfr.sample(3)"
   ]
  },
  {
   "cell_type": "markdown",
   "id": "754265cf-7dff-4cf6-82f9-470e1f16a7af",
   "metadata": {},
   "source": [
    "### Encode \"recclass\" with Label Encoding"
   ]
  },
  {
   "cell_type": "code",
   "execution_count": null,
   "id": "a23b2fcc-ce38-4294-a198-1fc8a4b4f50f",
   "metadata": {},
   "outputs": [],
   "source": [
    "df[\"recclass\"].unique()"
   ]
  },
  {
   "cell_type": "code",
   "execution_count": null,
   "id": "902b866f-8f85-4341-98ee-2d7ac73be481",
   "metadata": {},
   "outputs": [],
   "source": [
    "df['recclass'].value_counts()"
   ]
  },
  {
   "cell_type": "code",
   "execution_count": null,
   "id": "c2e12252-6228-4d71-9d8d-e506d6c17ae7",
   "metadata": {},
   "outputs": [],
   "source": [
    "# assign a type category for use with qualitative data\n",
    "df[\"recclass\"] = df[\"recclass\"].astype('category')"
   ]
  },
  {
   "cell_type": "code",
   "execution_count": null,
   "id": "01d4c087-892c-49e7-8b20-291217aff13f",
   "metadata": {},
   "outputs": [],
   "source": [
    "df[\"recclass\"] = df[\"recclass\"].cat.codes"
   ]
  },
  {
   "cell_type": "code",
   "execution_count": null,
   "id": "a5db2b23-826c-4e69-b56e-d7ecfcd22afd",
   "metadata": {},
   "outputs": [],
   "source": [
    "df.info()"
   ]
  },
  {
   "cell_type": "code",
   "execution_count": null,
   "id": "0d816f72-7505-440f-8dd5-d499a1b975d1",
   "metadata": {},
   "outputs": [],
   "source": [
    "df.sample(5)"
   ]
  },
  {
   "cell_type": "code",
   "execution_count": null,
   "id": "ce122e2e-370d-4465-977a-e991575845dc",
   "metadata": {},
   "outputs": [],
   "source": []
  },
  {
   "cell_type": "markdown",
   "id": "cec9880e",
   "metadata": {},
   "source": [
    "## Explore the Data by Statistics"
   ]
  },
  {
   "cell_type": "code",
   "execution_count": null,
   "id": "1dac1f24",
   "metadata": {},
   "outputs": [],
   "source": [
    "df.describe()"
   ]
  },
  {
   "cell_type": "code",
   "execution_count": null,
   "id": "33fb31df-d66f-461a-bf81-e0cd96295c44",
   "metadata": {},
   "outputs": [],
   "source": [
    "numdf = df.select_dtypes(include='number')\n",
    "numdf"
   ]
  },
  {
   "cell_type": "code",
   "execution_count": null,
   "id": "7ed295fa-adc9-48b4-bb53-f254f93bd504",
   "metadata": {},
   "outputs": [],
   "source": [
    "# drop id\n",
    "numdf.drop(['id'], axis=1, inplace = True)"
   ]
  },
  {
   "cell_type": "code",
   "execution_count": null,
   "id": "83325a80-1e53-4897-9ea8-ed979cd73790",
   "metadata": {},
   "outputs": [],
   "source": [
    "numdf.head()"
   ]
  },
  {
   "cell_type": "code",
   "execution_count": null,
   "id": "c7b72c03-7201-47da-ae27-7e0e89370193",
   "metadata": {},
   "outputs": [],
   "source": [
    "numdf.columns"
   ]
  },
  {
   "cell_type": "markdown",
   "id": "989110c6-e06b-4dbc-b287-f976a0fae59f",
   "metadata": {},
   "source": [
    "### Explore and Remove Outliers"
   ]
  },
  {
   "cell_type": "code",
   "execution_count": null,
   "id": "5ab8ba69-ed85-4d03-8d83-33193d5bd12c",
   "metadata": {},
   "outputs": [],
   "source": [
    "numdf.hist(bins = 20)"
   ]
  },
  {
   "cell_type": "code",
   "execution_count": null,
   "id": "0fa6df0d-f773-4e6b-b468-b772ce02919b",
   "metadata": {},
   "outputs": [],
   "source": [
    "numdf.describe()"
   ]
  },
  {
   "cell_type": "code",
   "execution_count": null,
   "id": "88fc5dd8-9d9d-4493-94f8-b5866800648b",
   "metadata": {},
   "outputs": [],
   "source": [
    "# plot outliers\n",
    "plt.scatter(x=numdf['year'], y=numdf['mass'], alpha=0.5)\n",
    "plt.show()"
   ]
  },
  {
   "cell_type": "code",
   "execution_count": null,
   "id": "1413c571-1c67-48e1-81ae-2b11841377c8",
   "metadata": {},
   "outputs": [],
   "source": [
    "numdf.boxplot()"
   ]
  },
  {
   "cell_type": "code",
   "execution_count": null,
   "id": "4e29b1b8-405f-485b-a852-c750074b3f8a",
   "metadata": {},
   "outputs": [],
   "source": [
    "# outliers by inter-quartile range (IQR)\n",
    "from typing import List\n",
    "def remove_outliers(df, data: List):\n",
    "    q1 = data.quantile(.25)\n",
    "    q3 = data.quantile(.75)\n",
    "    IQR = q3 - q1\n",
    "    # values smaller than 1.5 IQR below q1 and bigger that 1.5 IQR over q3 \n",
    "    outliers = df[(data < (q1 - 1.5 * IQR)) | (data > (q3 + 1.5 * IQR))]\n",
    "    df = df.drop(outliers.index, inplace=True)\n",
    "    return df"
   ]
  },
  {
   "cell_type": "code",
   "execution_count": null,
   "id": "f38466fd-0ccb-4664-ad49-e870373de8eb",
   "metadata": {},
   "outputs": [],
   "source": [
    "remove_outliers(numdf, numdf['mass'])\n",
    "numdf.shape"
   ]
  },
  {
   "cell_type": "code",
   "execution_count": null,
   "id": "2cbbfce7-1217-4bd8-8fdf-29816a96bdf9",
   "metadata": {},
   "outputs": [],
   "source": [
    "remove_outliers(numdf, numdf['year'])\n",
    "numdf.shape"
   ]
  },
  {
   "cell_type": "code",
   "execution_count": null,
   "id": "2eb07a68-4507-44a0-80b3-be43f6545ace",
   "metadata": {},
   "outputs": [],
   "source": [
    "numdf.describe()"
   ]
  },
  {
   "cell_type": "code",
   "execution_count": null,
   "id": "e022febb-722f-46f9-b31c-1d025c5c5d95",
   "metadata": {},
   "outputs": [],
   "source": [
    "# plot all observations to discover outliers\n",
    "numdf.plot.scatter(x='year', y='mass', c='mass', colormap='viridis')"
   ]
  },
  {
   "cell_type": "markdown",
   "id": "426dbda8-4190-4dc9-9f6c-fe63a4aca1f7",
   "metadata": {},
   "source": [
    "## Animation Example"
   ]
  },
  {
   "cell_type": "code",
   "execution_count": null,
   "id": "bde36495-be2d-4649-b0e8-f54c8ae2dca5",
   "metadata": {},
   "outputs": [],
   "source": [
    "# Animation example with another dataset\n",
    "df1 = px.data.gapminder()"
   ]
  },
  {
   "cell_type": "code",
   "execution_count": null,
   "id": "a8538283-ad5a-4efd-a3b6-6fb1fcc79b85",
   "metadata": {},
   "outputs": [],
   "source": [
    "df.sample(10)"
   ]
  },
  {
   "cell_type": "code",
   "execution_count": null,
   "id": "4b20642f-9f87-4780-ad11-a4bba373111b",
   "metadata": {},
   "outputs": [],
   "source": [
    "px.scatter(df1, x=\"gdpPercap\", y=\"lifeExp\", animation_frame=\"year\", animation_group=\"country\",\n",
    "           size=\"pop\", color=\"continent\", hover_name=\"country\",\n",
    "           log_x=True, size_max=55, range_x=[100,100000], range_y=[25,90])"
   ]
  },
  {
   "cell_type": "code",
   "execution_count": null,
   "id": "def29dc4-a5a7-417a-9d32-9daa6e722a64",
   "metadata": {},
   "outputs": [],
   "source": []
  },
  {
   "cell_type": "markdown",
   "id": "777761e8",
   "metadata": {},
   "source": [
    "### Visualise Geodata with Folium"
   ]
  },
  {
   "cell_type": "markdown",
   "id": "fce1a7bd-ebda-4baf-b73a-554cff9669c0",
   "metadata": {},
   "source": [
    "Create a version of the dataset, cleaned from the rows with missing geo-coordinates. This copy will be used for geo-visualisation analysis."
   ]
  },
  {
   "cell_type": "code",
   "execution_count": null,
   "id": "f809f962-54e2-48ca-83e3-8b6c72267af0",
   "metadata": {},
   "outputs": [],
   "source": [
    "dfl = df.copy()"
   ]
  },
  {
   "cell_type": "code",
   "execution_count": null,
   "id": "4d098785-e958-4752-babf-5545f14c850a",
   "metadata": {},
   "outputs": [],
   "source": [
    "dfl.sample(5)"
   ]
  },
  {
   "cell_type": "code",
   "execution_count": null,
   "id": "6a3b414a-df20-44dd-ac97-78eb41bfcaeb",
   "metadata": {},
   "outputs": [],
   "source": [
    "dfl.isnull().sum()"
   ]
  },
  {
   "cell_type": "code",
   "execution_count": null,
   "id": "4a5355a2-aac2-4c1d-aaba-5e3bceb509ac",
   "metadata": {},
   "outputs": [],
   "source": [
    "dfl = dfl.dropna(subset=['reclat', 'reclong', 'GeoLocation'])"
   ]
  },
  {
   "cell_type": "code",
   "execution_count": null,
   "id": "e6d7187a-6461-46af-8496-843b1210d5f2",
   "metadata": {},
   "outputs": [],
   "source": [
    "dfl.shape"
   ]
  },
  {
   "cell_type": "code",
   "execution_count": null,
   "id": "a75fbdf1-e7f8-4e2e-a4a4-b40743fb49ca",
   "metadata": {},
   "outputs": [],
   "source": [
    "dfl.isna().sum()"
   ]
  },
  {
   "cell_type": "code",
   "execution_count": null,
   "id": "1ac7f9d1",
   "metadata": {},
   "outputs": [],
   "source": [
    "subset = ['reclat','reclong']\n",
    "df.dropna(subset = subset, inplace=True)"
   ]
  },
  {
   "cell_type": "code",
   "execution_count": null,
   "id": "d7186371",
   "metadata": {},
   "outputs": [],
   "source": [
    "df.shape"
   ]
  },
  {
   "cell_type": "code",
   "execution_count": null,
   "id": "eaaf482f",
   "metadata": {
    "scrolled": true
   },
   "outputs": [],
   "source": [
    "df.sample(10)"
   ]
  },
  {
   "cell_type": "code",
   "execution_count": null,
   "id": "28f0a2f3",
   "metadata": {},
   "outputs": [],
   "source": [
    "# build a map\n",
    "fmap = folium.Map(location = [55.6819, 12.5627], zoom_start = 4)\n",
    "center = folium.Marker([55.6819, 12.5627], popup=\"Cphbusiness-Lyngby\", tooltip=\"new building\").add_to(fmap)\n",
    "fmap"
   ]
  },
  {
   "cell_type": "code",
   "execution_count": null,
   "id": "cbd8aab4-795f-4888-996c-e720f54d5711",
   "metadata": {},
   "outputs": [],
   "source": [
    "# add one more layer\n",
    "folium.TileLayer('openstreetmap').add_to(fmap)"
   ]
  },
  {
   "cell_type": "code",
   "execution_count": null,
   "id": "09e8251d-f5b8-432b-a509-cfe74b4eabf3",
   "metadata": {
    "scrolled": true
   },
   "outputs": [],
   "source": [
    "fmap.add_child(folium.LatLngPopup())"
   ]
  },
  {
   "cell_type": "code",
   "execution_count": null,
   "id": "fa37e0ec",
   "metadata": {},
   "outputs": [],
   "source": [
    "# add countries\n",
    "political_countries_url = (\"http://geojson.xyz/naturalearth-3.3.0/ne_50m_admin_0_countries.geojson\")\n",
    "folium.GeoJson(political_countries_url).add_to(fmap)"
   ]
  },
  {
   "cell_type": "code",
   "execution_count": null,
   "id": "6910333d",
   "metadata": {
    "scrolled": true
   },
   "outputs": [],
   "source": [
    "fmap"
   ]
  },
  {
   "cell_type": "code",
   "execution_count": null,
   "id": "177728dd-bdc1-439f-ac1c-637e1e30edab",
   "metadata": {},
   "outputs": [],
   "source": [
    "df.sample()"
   ]
  },
  {
   "cell_type": "code",
   "execution_count": null,
   "id": "a9a26112-75bc-415c-a7f0-9e35ef215c2a",
   "metadata": {},
   "outputs": [],
   "source": [
    "# add markers for the meteorites in a group\n",
    "fmap = folium.FeatureGroup(name=\"icon collection\", show=False).add_to(fmap)"
   ]
  },
  {
   "cell_type": "code",
   "execution_count": null,
   "id": "b884bf62-eb99-4978-a326-a3b059a7f5f3",
   "metadata": {},
   "outputs": [],
   "source": [
    "loc"
   ]
  },
  {
   "cell_type": "code",
   "execution_count": null,
   "id": "3b177f84",
   "metadata": {},
   "outputs": [],
   "source": [
    "\n",
    "for index, row in df.iloc[:10].iterrows():\n",
    "    marker = ''\n",
    "    loc = row['lat'],row['long'] \n",
    "    # loc = row['GeoLocation']\n",
    "    pop = str(int(row['year']))\n",
    "    marker = folium.Marker(location=loc, popup=pop, \n",
    "                           tooltip = \"Click me!\", \n",
    "                           icon = folium.Icon(color=\"green\", icon='flag')).add_to(fmap)"
   ]
  },
  {
   "cell_type": "code",
   "execution_count": null,
   "id": "e64fc7d3-7a71-4ef0-8948-a9bec0080290",
   "metadata": {},
   "outputs": [],
   "source": [
    "fmap"
   ]
  },
  {
   "cell_type": "code",
   "execution_count": null,
   "id": "badb1e3c-26f1-4b16-a9d8-eb4ece0fcdce",
   "metadata": {},
   "outputs": [],
   "source": [
    "folium.LayerControl().add_to(fmap)"
   ]
  },
  {
   "cell_type": "code",
   "execution_count": null,
   "id": "48e68d8a",
   "metadata": {
    "scrolled": true
   },
   "outputs": [],
   "source": [
    "fmap"
   ]
  },
  {
   "cell_type": "code",
   "execution_count": null,
   "id": "44f36fd1",
   "metadata": {},
   "outputs": [],
   "source": [
    "fmap.save(\"../data/meteorit.html\")"
   ]
  },
  {
   "cell_type": "code",
   "execution_count": null,
   "id": "a960bf39",
   "metadata": {},
   "outputs": [],
   "source": [
    "GeoLocation = [55.6819, 12.5627]\n",
    "\n",
    "m = folium.Map(location=GeoLocation,\n",
    "               zoom_start=15,\n",
    "               tiles='openstreetmap')\n",
    "\n",
    "folium.Marker(GeoLocation,\n",
    "              popup='<i>Data</i>', \n",
    "              tooltip='Click me!').add_to(m)"
   ]
  },
  {
   "cell_type": "code",
   "execution_count": null,
   "id": "ec18f3f2-c78d-4e88-b38a-e1ab92e9d317",
   "metadata": {},
   "outputs": [],
   "source": [
    "m"
   ]
  },
  {
   "cell_type": "markdown",
   "id": "157ebe6d-49bf-493b-811f-54a0b8e1c4d2",
   "metadata": {},
   "source": [
    "## Interactive Visualisation"
   ]
  },
  {
   "cell_type": "code",
   "execution_count": null,
   "id": "17b2a093-5a83-4701-bb90-9f74697bf439",
   "metadata": {},
   "outputs": [],
   "source": [
    "!pip install pygwalker"
   ]
  },
  {
   "cell_type": "code",
   "execution_count": null,
   "id": "208a48a5-56c5-4417-b1ba-2cc5f42af906",
   "metadata": {},
   "outputs": [],
   "source": [
    "import pygwalker as pyg"
   ]
  },
  {
   "cell_type": "code",
   "execution_count": null,
   "id": "ef86f3fc-7171-4e18-994d-771d3188dff9",
   "metadata": {
    "scrolled": true
   },
   "outputs": [],
   "source": [
    "walker = pyg.walk(df1, kanaries_api_key = \"<your key here\")"
   ]
  },
  {
   "cell_type": "markdown",
   "id": "7542fc7b",
   "metadata": {},
   "source": [
    "## See More\n",
    "- https://plotly.com\n",
    "- https://darigak.medium.com/your-guide-to-folium-markers-b9324fc7d65d\n",
    "- https://deparkes.co.uk/2016/06/10/folium-map-tiles/"
   ]
  },
  {
   "cell_type": "markdown",
   "id": "83e9a93d",
   "metadata": {},
   "source": [
    "### Try Using Other Visual Libraries"
   ]
  },
  {
   "cell_type": "code",
   "execution_count": null,
   "id": "2635168a",
   "metadata": {},
   "outputs": [],
   "source": [
    "import networkx as nx"
   ]
  },
  {
   "cell_type": "code",
   "execution_count": null,
   "id": "f1d9b40c-dacd-4cd7-93af-1e2beb2c468e",
   "metadata": {},
   "outputs": [],
   "source": [
    "df2 = pd.read_csv('../data/penguins.csv')"
   ]
  },
  {
   "cell_type": "code",
   "execution_count": null,
   "id": "de5b4f65-2e21-459d-bb1a-bbfeb1d31593",
   "metadata": {},
   "outputs": [],
   "source": [
    "G = nx.Graph()"
   ]
  },
  {
   "cell_type": "code",
   "execution_count": null,
   "id": "22f3bf59-75f5-4ded-bf75-44aecfe8c500",
   "metadata": {},
   "outputs": [],
   "source": [
    "G.add_nodes_from(df2['island']) "
   ]
  },
  {
   "cell_type": "code",
   "execution_count": null,
   "id": "39de7274-1b48-4d5f-8782-a88c719f344b",
   "metadata": {},
   "outputs": [],
   "source": [
    "G.add_nodes_from(df2['species']) "
   ]
  },
  {
   "cell_type": "code",
   "execution_count": null,
   "id": "e3c00644-70fe-4c82-bc4b-9d3c671fce63",
   "metadata": {},
   "outputs": [],
   "source": [
    "edges = [(row['island'], row['species']) for index, row in df2.iterrows()]\n",
    "G.add_edges_from(edges)"
   ]
  },
  {
   "cell_type": "code",
   "execution_count": null,
   "id": "aad4402d-bfcc-44d7-aa30-e80eb54f3134",
   "metadata": {},
   "outputs": [],
   "source": [
    "# G.add_edges_from([(1,2), (1,3), (4,5)]) "
   ]
  },
  {
   "cell_type": "code",
   "execution_count": null,
   "id": "72fa0600-908d-453f-ba52-514d9a30281f",
   "metadata": {},
   "outputs": [],
   "source": [
    "list(G)"
   ]
  },
  {
   "cell_type": "code",
   "execution_count": null,
   "id": "f8263a56-137f-4fad-acf8-9c48f88eabf5",
   "metadata": {},
   "outputs": [],
   "source": [
    "nx.draw(G)\n",
    "plt.show()"
   ]
  },
  {
   "cell_type": "code",
   "execution_count": null,
   "id": "14fbf35b-428e-4f4e-9e25-291a94462141",
   "metadata": {},
   "outputs": [],
   "source": [
    "# Draw the graph\n",
    "pos = nx.spring_layout(G) # Define the layout for node positioning\n",
    "nx.draw(G, pos, with_labels=True, node_size=600, node_color='skyblue', font_size=8, font_color='black')\n",
    "\n",
    "# Display the graph\n",
    "plt.show()"
   ]
  },
  {
   "cell_type": "code",
   "execution_count": null,
   "id": "dd044b7e-0960-4838-b17d-69612323046f",
   "metadata": {},
   "outputs": [],
   "source": []
  },
  {
   "cell_type": "code",
   "execution_count": null,
   "id": "8c9da158-35f2-487d-8c8c-fd829b896e4a",
   "metadata": {},
   "outputs": [],
   "source": []
  }
 ],
 "metadata": {
  "kernelspec": {
   "display_name": "Python 3 (ipykernel)",
   "language": "python",
   "name": "python3"
  },
  "language_info": {
   "codemirror_mode": {
    "name": "ipython",
    "version": 3
   },
   "file_extension": ".py",
   "mimetype": "text/x-python",
   "name": "python",
   "nbconvert_exporter": "python",
   "pygments_lexer": "ipython3",
   "version": "3.12.8"
  }
 },
 "nbformat": 4,
 "nbformat_minor": 5
}
