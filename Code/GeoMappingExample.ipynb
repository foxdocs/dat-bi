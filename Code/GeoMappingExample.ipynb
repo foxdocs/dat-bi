{
 "cells": [
  {
   "cell_type": "markdown",
   "id": "a8546c62",
   "metadata": {},
   "source": [
    "# Geo Mapping Example\n",
    "Reads file population.json and paints the countries on the map"
   ]
  },
  {
   "cell_type": "code",
   "execution_count": null,
   "id": "dc4cea73",
   "metadata": {},
   "outputs": [],
   "source": [
    "import folium"
   ]
  },
  {
   "cell_type": "code",
   "execution_count": null,
   "id": "2e790426",
   "metadata": {},
   "outputs": [],
   "source": [
    "# Display map\n",
    "# default is geographical style, with a center of the current location\n",
    "mymap = folium.Map(location=[55,12])"
   ]
  },
  {
   "cell_type": "code",
   "execution_count": null,
   "id": "13a7b38b",
   "metadata": {},
   "outputs": [],
   "source": [
    "mymap"
   ]
  },
  {
   "cell_type": "code",
   "execution_count": null,
   "id": "008e56fb-c777-49a9-b68c-b6bb19533701",
   "metadata": {},
   "outputs": [],
   "source": [
    "# tiles is used to change the default style\n",
    "mymap = folium.Map(location=[55,12], tiles=\"CartoDB positron\" , zoom_start=3)"
   ]
  },
  {
   "cell_type": "code",
   "execution_count": null,
   "id": "1e49b05b",
   "metadata": {},
   "outputs": [],
   "source": [
    "# function to select a color depending on the parameter's value\n",
    "def colorPicker(value):\n",
    "    if value < 1.0e8:\n",
    "        return 'green'\n",
    "    elif value >= 10000000 and value < 500000000:\n",
    "        return 'orange'\n",
    "    else:\n",
    "        return 'red'"
   ]
  },
  {
   "cell_type": "code",
   "execution_count": null,
   "id": "06d06903",
   "metadata": {},
   "outputs": [],
   "source": [
    "# more demo data: https://github.com/MinnPost/simple-map-d3/tree/master/example-data\n",
    "url = '../data/population.json' \n",
    "with open(url,  'r', encoding='utf-8-sig')  as f:\n",
    "    folium.GeoJson(f.read(), name = 'Population',\n",
    "               style_function = lambda x: {'fillColor': colorPicker(x['properties']['POP2005'])},\n",
    "               tooltip = folium.GeoJsonTooltip(fields=('NAME', 'POP2005'), aliases=('Country','Population')),\n",
    "               show = True).add_to(mymap)"
   ]
  },
  {
   "cell_type": "code",
   "execution_count": null,
   "id": "ee44ad9e",
   "metadata": {
    "scrolled": true
   },
   "outputs": [],
   "source": [
    "mymap"
   ]
  },
  {
   "cell_type": "code",
   "execution_count": null,
   "id": "005ba547-0bd7-4e4a-87b4-9105e839d4d7",
   "metadata": {},
   "outputs": [],
   "source": [
    "# add marker for Copenhagen\n",
    "circ = folium.Circle(radius=5000, location=[55.6761, 12.5683], color='crimson', fill=False,)\n",
    "circ.add_to(mymap)\n",
    "mymap"
   ]
  },
  {
   "cell_type": "code",
   "execution_count": null,
   "id": "d3ac6c61-bc88-493f-b748-7a7aff620e70",
   "metadata": {},
   "outputs": [],
   "source": [
    "# and for Rønne\n",
    "from folium import plugins\n",
    "location = [[55.1010, 14.7083]]\n",
    "pin = plugins.MarkerCluster(location)\n",
    "pin.add_to(mymap)\n",
    "mymap"
   ]
  },
  {
   "cell_type": "markdown",
   "id": "7682d833",
   "metadata": {},
   "source": [
    "### Reference\n",
    "Map Visualization with Folium <br>\n",
    "https://python-visualization.github.io/folium/latest/user_guide.html <br>\n",
    "https://medium.com/datasciencearth/map-visualization-with-folium-d1403771717 <br>"
   ]
  },
  {
   "cell_type": "code",
   "execution_count": null,
   "id": "da82bae8",
   "metadata": {},
   "outputs": [],
   "source": []
  }
 ],
 "metadata": {
  "kernelspec": {
   "display_name": "Python 3 (ipykernel)",
   "language": "python",
   "name": "python3"
  },
  "language_info": {
   "codemirror_mode": {
    "name": "ipython",
    "version": 3
   },
   "file_extension": ".py",
   "mimetype": "text/x-python",
   "name": "python",
   "nbconvert_exporter": "python",
   "pygments_lexer": "ipython3",
   "version": "3.12.8"
  }
 },
 "nbformat": 4,
 "nbformat_minor": 5
}
