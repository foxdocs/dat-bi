{
 "cells": [
  {
   "cell_type": "markdown",
   "id": "2dccc040-cf16-4795-aa37-e5cc0a7a6f72",
   "metadata": {},
   "source": [
    "# Reader Test"
   ]
  },
  {
   "cell_type": "code",
   "execution_count": 1,
   "id": "8d79ed67-fe5d-47f9-a525-77d9ff40e748",
   "metadata": {},
   "outputs": [
    {
     "name": "stdout",
     "output_type": "stream",
     "text": [
      "package has been imported\n"
     ]
    }
   ],
   "source": [
    "import Read"
   ]
  },
  {
   "cell_type": "code",
   "execution_count": 2,
   "id": "493d6984-d3d7-4356-bb4a-600351bf1a2b",
   "metadata": {},
   "outputs": [],
   "source": [
    "from Read import api, jsonio"
   ]
  },
  {
   "cell_type": "markdown",
   "id": "9c2ac3d3-57da-4d11-be3d-83c63e8d23bc",
   "metadata": {},
   "source": [
    "## API Test"
   ]
  },
  {
   "cell_type": "code",
   "execution_count": 3,
   "id": "d86f3c6a-0a29-4a2e-8837-1cd5e74fecd6",
   "metadata": {},
   "outputs": [],
   "source": [
    "url = \"https://api.weatherstack.com/current\""
   ]
  },
  {
   "cell_type": "code",
   "execution_count": 4,
   "id": "4b6739f4-2272-4bff-9c32-5248705b6f3f",
   "metadata": {},
   "outputs": [
    {
     "name": "stdin",
     "output_type": "stream",
     "text": [
      "enter your API access key 9d4b537334b58879750578930e12f3ca\n"
     ]
    }
   ],
   "source": [
    "key = input(\"enter your API access key\")"
   ]
  },
  {
   "cell_type": "code",
   "execution_count": 5,
   "id": "644eb6bc-f1ea-4e03-b94d-582a0c53a66f",
   "metadata": {},
   "outputs": [
    {
     "name": "stdin",
     "output_type": "stream",
     "text": [
      "enter the location of interest Lyngby\n"
     ]
    }
   ],
   "source": [
    "city = input(\"enter the location of interest\")"
   ]
  },
  {
   "cell_type": "code",
   "execution_count": 6,
   "id": "43ef89a9-637c-4ab7-818a-560ea4c36eaf",
   "metadata": {},
   "outputs": [],
   "source": [
    "params = {\"query\":city, \"access_key\": key}"
   ]
  },
  {
   "cell_type": "code",
   "execution_count": 7,
   "id": "42cf876a-05e9-4cb2-b452-8dcded686e1d",
   "metadata": {},
   "outputs": [],
   "source": [
    "headers = {}"
   ]
  },
  {
   "cell_type": "code",
   "execution_count": 11,
   "id": "d995bfba-979e-4f81-ae00-a09acb9e27f3",
   "metadata": {},
   "outputs": [],
   "source": [
    "response = api.readAPI(url, params, headers)"
   ]
  },
  {
   "cell_type": "code",
   "execution_count": 9,
   "id": "130674a4-bf92-43ee-85f7-1f0052646401",
   "metadata": {},
   "outputs": [
    {
     "data": {
      "text/plain": [
       "{'request': {'type': 'City',\n",
       "  'query': 'Lyngby, Denmark',\n",
       "  'language': 'en',\n",
       "  'unit': 'm'},\n",
       " 'location': {'name': 'Lyngby',\n",
       "  'country': 'Denmark',\n",
       "  'region': 'Hovedstaden',\n",
       "  'lat': '55.767',\n",
       "  'lon': '12.517',\n",
       "  'timezone_id': 'Europe/Copenhagen',\n",
       "  'localtime': '2025-08-28 11:11',\n",
       "  'localtime_epoch': 1756379460,\n",
       "  'utc_offset': '2.0'},\n",
       " 'current': {'observation_time': '09:11 AM',\n",
       "  'temperature': 19,\n",
       "  'weather_code': 116,\n",
       "  'weather_icons': ['https://cdn.worldweatheronline.com/images/wsymbols01_png_64/wsymbol_0002_sunny_intervals.png'],\n",
       "  'weather_descriptions': ['Partly Cloudy '],\n",
       "  'astro': {'sunrise': '06:07 AM',\n",
       "   'sunset': '08:14 PM',\n",
       "   'moonrise': '12:30 PM',\n",
       "   'moonset': '09:04 PM',\n",
       "   'moon_phase': 'Waxing Crescent',\n",
       "   'moon_illumination': 21},\n",
       "  'air_quality': {'co': '407',\n",
       "   'no2': '38.295',\n",
       "   'o3': '50',\n",
       "   'so2': '2.22',\n",
       "   'pm2_5': '21.46',\n",
       "   'pm10': '29.415',\n",
       "   'us-epa-index': '2',\n",
       "   'gb-defra-index': '2'},\n",
       "  'wind_speed': 12,\n",
       "  'wind_degree': 75,\n",
       "  'wind_dir': 'ENE',\n",
       "  'pressure': 1007,\n",
       "  'precip': 0,\n",
       "  'humidity': 78,\n",
       "  'cloudcover': 0,\n",
       "  'feelslike': 19,\n",
       "  'uv_index': 1,\n",
       "  'visibility': 10,\n",
       "  'is_day': 'yes'}}"
      ]
     },
     "execution_count": 9,
     "metadata": {},
     "output_type": "execute_result"
    }
   ],
   "source": [
    "response"
   ]
  },
  {
   "cell_type": "markdown",
   "id": "88dbdaee-ae42-4caf-9a96-a9fd105bc39f",
   "metadata": {},
   "source": [
    "## JSON Test"
   ]
  },
  {
   "cell_type": "code",
   "execution_count": 15,
   "id": "cca4f90b-42c2-4a40-a4e4-6e50be8b375c",
   "metadata": {},
   "outputs": [],
   "source": [
    "# create json\n",
    "url = \"../Data/weather.json\""
   ]
  },
  {
   "cell_type": "code",
   "execution_count": 16,
   "id": "d3864eb3-fab4-4ab9-8444-bfacc23f4c44",
   "metadata": {},
   "outputs": [],
   "source": [
    "jsonio.write_json(url, response)"
   ]
  },
  {
   "cell_type": "code",
   "execution_count": 21,
   "id": "14dd9996-de6b-488c-b0e0-79a4a81251ce",
   "metadata": {},
   "outputs": [],
   "source": [
    "# read json\n",
    "url = \"../Data/population.json\"\n",
    "# url = \"../Data/weather.json\""
   ]
  },
  {
   "cell_type": "code",
   "execution_count": 22,
   "id": "eaab2724-68e9-4972-be44-6c47168113a6",
   "metadata": {},
   "outputs": [
    {
     "data": {
      "text/html": [
       "<div>\n",
       "<style scoped>\n",
       "    .dataframe tbody tr th:only-of-type {\n",
       "        vertical-align: middle;\n",
       "    }\n",
       "\n",
       "    .dataframe tbody tr th {\n",
       "        vertical-align: top;\n",
       "    }\n",
       "\n",
       "    .dataframe thead th {\n",
       "        text-align: right;\n",
       "    }\n",
       "</style>\n",
       "<table border=\"1\" class=\"dataframe\">\n",
       "  <thead>\n",
       "    <tr style=\"text-align: right;\">\n",
       "      <th></th>\n",
       "      <th>country</th>\n",
       "      <th>population</th>\n",
       "    </tr>\n",
       "  </thead>\n",
       "  <tbody>\n",
       "    <tr>\n",
       "      <th>0</th>\n",
       "      <td>Afghanistan</td>\n",
       "      <td>35530081</td>\n",
       "    </tr>\n",
       "    <tr>\n",
       "      <th>1</th>\n",
       "      <td>Albania</td>\n",
       "      <td>2930187</td>\n",
       "    </tr>\n",
       "    <tr>\n",
       "      <th>2</th>\n",
       "      <td>Algeria</td>\n",
       "      <td>41318142</td>\n",
       "    </tr>\n",
       "    <tr>\n",
       "      <th>3</th>\n",
       "      <td>American Samoa</td>\n",
       "      <td>55641</td>\n",
       "    </tr>\n",
       "    <tr>\n",
       "      <th>4</th>\n",
       "      <td>Andorra</td>\n",
       "      <td>76965</td>\n",
       "    </tr>\n",
       "    <tr>\n",
       "      <th>...</th>\n",
       "      <td>...</td>\n",
       "      <td>...</td>\n",
       "    </tr>\n",
       "    <tr>\n",
       "      <th>223</th>\n",
       "      <td>Western Sahara</td>\n",
       "      <td>552628</td>\n",
       "    </tr>\n",
       "    <tr>\n",
       "      <th>224</th>\n",
       "      <td>Yemen</td>\n",
       "      <td>28250420</td>\n",
       "    </tr>\n",
       "    <tr>\n",
       "      <th>225</th>\n",
       "      <td>Yugoslavia</td>\n",
       "      <td>10640000</td>\n",
       "    </tr>\n",
       "    <tr>\n",
       "      <th>226</th>\n",
       "      <td>Zambia</td>\n",
       "      <td>17094130</td>\n",
       "    </tr>\n",
       "    <tr>\n",
       "      <th>227</th>\n",
       "      <td>Zimbabwe</td>\n",
       "      <td>16529904</td>\n",
       "    </tr>\n",
       "  </tbody>\n",
       "</table>\n",
       "<p>228 rows × 2 columns</p>\n",
       "</div>"
      ],
      "text/plain": [
       "            country  population\n",
       "0       Afghanistan    35530081\n",
       "1           Albania     2930187\n",
       "2           Algeria    41318142\n",
       "3    American Samoa       55641\n",
       "4           Andorra       76965\n",
       "..              ...         ...\n",
       "223  Western Sahara      552628\n",
       "224           Yemen    28250420\n",
       "225      Yugoslavia    10640000\n",
       "226          Zambia    17094130\n",
       "227        Zimbabwe    16529904\n",
       "\n",
       "[228 rows x 2 columns]"
      ]
     },
     "execution_count": 22,
     "metadata": {},
     "output_type": "execute_result"
    }
   ],
   "source": [
    "df = jsonio.read_json(url)\n",
    "df"
   ]
  },
  {
   "cell_type": "code",
   "execution_count": null,
   "id": "800e6393-a68c-4ecb-9777-37a8e54426d5",
   "metadata": {},
   "outputs": [],
   "source": []
  }
 ],
 "metadata": {
  "kernelspec": {
   "display_name": "Python 3 (ipykernel)",
   "language": "python",
   "name": "python3"
  },
  "language_info": {
   "codemirror_mode": {
    "name": "ipython",
    "version": 3
   },
   "file_extension": ".py",
   "mimetype": "text/x-python",
   "name": "python",
   "nbconvert_exporter": "python",
   "pygments_lexer": "ipython3",
   "version": "3.12.8"
  }
 },
 "nbformat": 4,
 "nbformat_minor": 5
}
