{
 "cells": [
  {
   "cell_type": "markdown",
   "id": "7457d4e8",
   "metadata": {},
   "source": [
    "# Read API"
   ]
  },
  {
   "cell_type": "code",
   "execution_count": 1,
   "id": "43a42acb-4ca2-4bbc-83dc-0ee0dbb8e9c0",
   "metadata": {},
   "outputs": [],
   "source": [
    "import os\n",
    "import json\n",
    "import requests\n",
    "import pprint\n",
    "import pandas as pd"
   ]
  },
  {
   "cell_type": "code",
   "execution_count": 2,
   "id": "18841ae3",
   "metadata": {},
   "outputs": [],
   "source": [
    "# Reads from the url and stores the response in a json file\n",
    "def readAPI(url, params, headers, myfile):  \n",
    "    list = []\n",
    "    response = requests.get(url, params=params, headers=headers).json()\n",
    "    list.append(response)\n",
    "    \n",
    "    # save in json file        \n",
    "    with open(myfile, 'w') as f:\n",
    "        json.dump(list,f)\n",
    "    return"
   ]
  },
  {
   "cell_type": "markdown",
   "id": "4af71fa4",
   "metadata": {},
   "source": [
    "## Test"
   ]
  },
  {
   "cell_type": "code",
   "execution_count": null,
   "id": "8629e80c",
   "metadata": {},
   "outputs": [],
   "source": [
    "# Use CVR API\n",
    "# Search by CVR (vat), name (name), phone (phone) or production unit (produ) - key\n",
    "# Cphbusiness cvr(31678021)"
   ]
  },
  {
   "cell_type": "markdown",
   "id": "e78180bd-cfa3-4b14-aa1e-3d2fac51d55f",
   "metadata": {},
   "source": [
    "The source API requires mandatory parameters '_params_' and '_headers_' in the get() request. <br>\n",
    "- '_params_' includes the search key and the country\n",
    "- '_headers_' includes the user's identification"
   ]
  },
  {
   "cell_type": "code",
   "execution_count": 3,
   "id": "a2e28bde",
   "metadata": {},
   "outputs": [
    {
     "name": "stdin",
     "output_type": "stream",
     "text": [
      " ISS\n"
     ]
    }
   ],
   "source": [
    "# the name of the company for which data is extracted\n",
    "# company = \"Københavns Erhvervsakademi\"\n",
    "company = input()"
   ]
  },
  {
   "cell_type": "code",
   "execution_count": 4,
   "id": "bea41494-dc57-4ad8-9b83-f858e13574c1",
   "metadata": {},
   "outputs": [],
   "source": [
    "# user identification (alias)\n",
    "# user = <your alias here>\n",
    "user = 'user'"
   ]
  },
  {
   "cell_type": "code",
   "execution_count": 5,
   "id": "5489524f",
   "metadata": {},
   "outputs": [],
   "source": [
    "url='http://cvrapi.dk/api'  \n",
    "params = {'search':company, 'country':'DK'}\n",
    "headers = {'User-Agent': user}"
   ]
  },
  {
   "cell_type": "code",
   "execution_count": 6,
   "id": "e2b45352",
   "metadata": {},
   "outputs": [],
   "source": [
    "# The response from the API reader is stored in a file as JSON object\n",
    "myfile = 'apitest.json'"
   ]
  },
  {
   "cell_type": "code",
   "execution_count": 7,
   "id": "379c183c",
   "metadata": {},
   "outputs": [],
   "source": [
    "# response goes in the file\n",
    "response = readAPI(url, params, headers, myfile)"
   ]
  },
  {
   "cell_type": "markdown",
   "id": "b9cca262-6965-4087-bbfc-a0e6f65945ab",
   "metadata": {},
   "source": [
    "## Read the File into DataFrame"
   ]
  },
  {
   "cell_type": "code",
   "execution_count": 8,
   "id": "d029bc70",
   "metadata": {},
   "outputs": [],
   "source": [
    "df = pd.read_json(myfile)"
   ]
  },
  {
   "cell_type": "code",
   "execution_count": 9,
   "id": "fec1cb1b-91c4-446f-b946-483ac2ce19c5",
   "metadata": {},
   "outputs": [
    {
     "data": {
      "text/html": [
       "<div>\n",
       "<style scoped>\n",
       "    .dataframe tbody tr th:only-of-type {\n",
       "        vertical-align: middle;\n",
       "    }\n",
       "\n",
       "    .dataframe tbody tr th {\n",
       "        vertical-align: top;\n",
       "    }\n",
       "\n",
       "    .dataframe thead th {\n",
       "        text-align: right;\n",
       "    }\n",
       "</style>\n",
       "<table border=\"1\" class=\"dataframe\">\n",
       "  <thead>\n",
       "    <tr style=\"text-align: right;\">\n",
       "      <th></th>\n",
       "      <th>vat</th>\n",
       "      <th>name</th>\n",
       "      <th>address</th>\n",
       "      <th>zipcode</th>\n",
       "      <th>city</th>\n",
       "      <th>cityname</th>\n",
       "      <th>protected</th>\n",
       "      <th>phone</th>\n",
       "      <th>email</th>\n",
       "      <th>fax</th>\n",
       "      <th>...</th>\n",
       "      <th>industrydesc</th>\n",
       "      <th>companycode</th>\n",
       "      <th>companydesc</th>\n",
       "      <th>creditstartdate</th>\n",
       "      <th>creditbankrupt</th>\n",
       "      <th>creditstatus</th>\n",
       "      <th>owners</th>\n",
       "      <th>productionunits</th>\n",
       "      <th>t</th>\n",
       "      <th>version</th>\n",
       "    </tr>\n",
       "  </thead>\n",
       "  <tbody>\n",
       "    <tr>\n",
       "      <th>0</th>\n",
       "      <td>28504799</td>\n",
       "      <td>ISS A/S</td>\n",
       "      <td>Buddingevej 197</td>\n",
       "      <td>2860</td>\n",
       "      <td>Søborg</td>\n",
       "      <td>NaN</td>\n",
       "      <td>False</td>\n",
       "      <td>38170000</td>\n",
       "      <td>NaN</td>\n",
       "      <td>NaN</td>\n",
       "      <td>...</td>\n",
       "      <td>Ikke-finansielle holdingselskaber</td>\n",
       "      <td>60</td>\n",
       "      <td>Aktieselskab</td>\n",
       "      <td>NaN</td>\n",
       "      <td>False</td>\n",
       "      <td>NaN</td>\n",
       "      <td>NaN</td>\n",
       "      <td>[{'pno': 1011193265, 'main': True, 'name': 'IS...</td>\n",
       "      <td>100</td>\n",
       "      <td>6</td>\n",
       "    </tr>\n",
       "  </tbody>\n",
       "</table>\n",
       "<p>1 rows × 25 columns</p>\n",
       "</div>"
      ],
      "text/plain": [
       "        vat     name          address  zipcode    city  cityname  protected  \\\n",
       "0  28504799  ISS A/S  Buddingevej 197     2860  Søborg       NaN      False   \n",
       "\n",
       "      phone  email  fax  ...                       industrydesc  companycode  \\\n",
       "0  38170000    NaN  NaN  ...  Ikke-finansielle holdingselskaber           60   \n",
       "\n",
       "    companydesc  creditstartdate  creditbankrupt creditstatus  owners  \\\n",
       "0  Aktieselskab              NaN           False          NaN     NaN   \n",
       "\n",
       "                                     productionunits    t  version  \n",
       "0  [{'pno': 1011193265, 'main': True, 'name': 'IS...  100        6  \n",
       "\n",
       "[1 rows x 25 columns]"
      ]
     },
     "execution_count": 9,
     "metadata": {},
     "output_type": "execute_result"
    }
   ],
   "source": [
    "df"
   ]
  },
  {
   "cell_type": "code",
   "execution_count": null,
   "id": "620da9fc-5d56-4b64-a46c-7806be3773c2",
   "metadata": {},
   "outputs": [],
   "source": []
  }
 ],
 "metadata": {
  "kernelspec": {
   "display_name": "Python 3 (ipykernel)",
   "language": "python",
   "name": "python3"
  },
  "language_info": {
   "codemirror_mode": {
    "name": "ipython",
    "version": 3
   },
   "file_extension": ".py",
   "mimetype": "text/x-python",
   "name": "python",
   "nbconvert_exporter": "python",
   "pygments_lexer": "ipython3",
   "version": "3.12.8"
  }
 },
 "nbformat": 4,
 "nbformat_minor": 5
}
